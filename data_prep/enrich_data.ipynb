{
 "cells": [
  {
   "attachments": {},
   "cell_type": "markdown",
   "metadata": {},
   "source": [
    "**Generation of additional data samples using the Mapbox satellite api**"
   ]
  },
  {
   "attachments": {},
   "cell_type": "markdown",
   "metadata": {},
   "source": [
    "Change log level"
   ]
  },
  {
   "cell_type": "code",
   "execution_count": 1,
   "metadata": {},
   "outputs": [],
   "source": [
    "import os\n",
    "os.environ['TF_CPP_MIN_LOG_LEVEL'] = '1'"
   ]
  },
  {
   "attachments": {},
   "cell_type": "markdown",
   "metadata": {},
   "source": [
    "Imports"
   ]
  },
  {
   "cell_type": "code",
   "execution_count": 3,
   "metadata": {},
   "outputs": [],
   "source": [
    "# imports for requests and image preprocessing\n",
    "from matplotlib import pyplot as plt\n",
    "import numpy as np\n",
    "import tensorflow as tf\n",
    "import requests\n",
    "from PIL import Image\n",
    "from io import BytesIO\n",
    "from geopy.geocoders import Nominatim\n",
    "import tensorflow as tf\n",
    "import numpy as np\n"
   ]
  },
  {
   "attachments": {},
   "cell_type": "markdown",
   "metadata": {},
   "source": [
    "Function gets a list of Places in the format (name, Country) and generates n pictures. It first searches the coordinates using the geoapi Nominatim. Adds a random noise of 0.04 ~ 5 km to the coordinates requests the picture in the right format and saves it."
   ]
  },
  {
   "cell_type": "code",
   "execution_count": 16,
   "metadata": {},
   "outputs": [],
   "source": [
    "\n",
    "def create_dataset(city_list, n):\n",
    "    geolocator = Nominatim(user_agent=\"geoapiExercises\")\n",
    "    url = 'https://api.mapbox.com/styles/v1/mapbox/satellite-v9/static/{},{},15,0/350x350'\n",
    "    access_token = 'pk.eyJ1IjoibTNuZGVsIiwiYSI6ImNsajV5a2syMjAxOW8zam9ibXp4dGFkNmQifQ.PA3LPn0Ihn_xJ-tOnEUsWg'\n",
    "    ending = '&attribution=false&logo=false'\n",
    "    images = []\n",
    "    labels = []\n",
    "\n",
    "    for city in city_list:\n",
    "        location = geolocator.geocode(city)\n",
    "\n",
    "        if location:\n",
    "            for i in range(n):\n",
    "                # add random noise( equal to 5 km) to the longitude and latitude\n",
    "                latitude = location.latitude + np.random.normal(0, 0.04)\n",
    "                longitude = location.longitude + np.random.normal(0, 0.04)\n",
    "\n",
    "                response = requests.get(url.format(longitude,latitude) + '?access_token=' + access_token + ending)\n",
    "                img = Image.open(BytesIO(response.content))\n",
    "                img.save(f\"C:/Users/timla/Projects/EnterpriseAI/data/additional/nowildfire/{longitude},{latitude}.jpg\")\n",
    "                \n",
    "\n",
    "\n"
   ]
  },
  {
   "cell_type": "code",
   "execution_count": 14,
   "metadata": {},
   "outputs": [
    {
     "data": {
      "text/plain": [
       "128"
      ]
     },
     "execution_count": 14,
     "metadata": {},
     "output_type": "execute_result"
    }
   ],
   "source": [
    "city_list = [\n",
    "    \"Moscow, Russia\",\n",
    "    \"Saint Petersburg, Russia\",\n",
    "    \"Novosibirsk, Russia\",\n",
    "    \"Yekaterinburg, Russia\",\n",
    "    \"Vladivostok, Russia\",\n",
    "    \"Norilsk, Russia\",\n",
    "    \"Murmansk, Russia\",\n",
    "    \"Krasnoyarsk, Russia\",\n",
    "    \"Magadan, Russia\",\n",
    "    \"Yakutsk, Russia\",\n",
    "    \"Kazan, Russia\",\n",
    "    \"Omsk, Russia\",\n",
    "    \"Samara, Russia\",\n",
    "    \"Ufa, Russia\",\n",
    "    \"Chelyabinsk, Russia\",\n",
    "    \"Rostov-on-Don, Russia\",\n",
    "    \"Anchorage, USA\",\n",
    "    \"Fairbanks, USA\",\n",
    "    \"Juneau, USA\",\n",
    "    \"Minneapolis, USA\",\n",
    "    \"Helena, USA\",\n",
    "    \"Fargo, USA\",\n",
    "    \"Madison, USA\",\n",
    "    \"Seattle, USA\",\n",
    "    \"Portland, USA\",\n",
    "    \"Bismarck, USA\",\n",
    "    \"St. Paul, USA\",\n",
    "    \"Duluth, USA\",\n",
    "    \"Green Bay, USA\",\n",
    "    \"Grand Rapids, USA\",\n",
    "    \"Sioux Falls, USA\",\n",
    "    \"Rapid City, USA\",\n",
    "    \"Casper, USA\",\n",
    "    \"Oslo, Norway\",\n",
    "    \"Bergen, Norway\",\n",
    "    \"Trondheim, Norway\",\n",
    "    \"Tromsø, Norway\",\n",
    "    \"Bodø, Norway\",\n",
    "    \"Stavanger, Norway\",\n",
    "    \"Drammen, Norway\",\n",
    "    \"Fredrikstad, Norway\",\n",
    "    \"Porsgrunn, Norway\",\n",
    "    \"Skien, Norway\",\n",
    "    \"Kristiansand, Norway\",\n",
    "    \"Ålesund, Norway\",\n",
    "    \"Tønsberg, Norway\",\n",
    "    \"Moss, Norway\",\n",
    "    \"Hamar, Norway\",\n",
    "    \"Larvik, Norway\",\n",
    "    \"Halden, Norway\",\n",
    "    \"Harstad, Norway\",\n",
    "    \"Lillehammer, Norway\",\n",
    "    \"Molde, Norway\",\n",
    "    \"Steinkjer, Norway\",\n",
    "    \"Arendal, Norway\",\n",
    "    \"Haugesund, Norway\",\n",
    "    \"Sandefjord, Norway\",\n",
    "    \"Mo i Rana, Norway\",\n",
    "    \"Narvik, Norway\",\n",
    "    \"Kongsberg, Norway\",\n",
    "    \"Hønefoss, Norway\",\n",
    "    \"Notodden, Norway\",\n",
    "    \"Bodø, Norway\",\n",
    "    \"Stockholm, Sweden\",\n",
    "    \"Gothenburg, Sweden\",\n",
    "    \"Malmö, Sweden\",\n",
    "    \"Uppsala, Sweden\",\n",
    "    \"Västerås, Sweden\",\n",
    "    \"Örebro, Sweden\",\n",
    "    \"Linköping, Sweden\",\n",
    "    \"Helsingborg, Sweden\",\n",
    "    \"Jönköping, Sweden\",\n",
    "    \"Norrköping, Sweden\",\n",
    "    \"Lund, Sweden\",\n",
    "    \"Umeå, Sweden\",\n",
    "    \"Gävle, Sweden\",\n",
    "    \"Borås, Sweden\",\n",
    "    \"Södertälje, Sweden\",\n",
    "    \"Eskilstuna, Sweden\",\n",
    "    \"Täby, Sweden\",\n",
    "    \"Karlstad, Sweden\",\n",
    "    \"Halmstad, Sweden\",\n",
    "    \"Växjö, Sweden\",\n",
    "    \"Sundsvall, Sweden\",\n",
    "    \"Luleå, Sweden\",\n",
    "    \"Trollhättan, Sweden\",\n",
    "    \"Lidingö, Sweden\",\n",
    "    \"Östersund, Sweden\",\n",
    "    \"Borlänge, Sweden\",\n",
    "    \"Upplands Väsby, Sweden\",\n",
    "    \"Falun, Sweden\",\n",
    "    \"Tumba, Sweden\",\n",
    "    \"Kalmar, Sweden\",\n",
    "    \"Sundbyberg, Sweden\",\n",
    "    \"Skellefteå, Sweden\",\n",
    "    \"Karlskrona, Sweden\",\n",
    "    \"Kristianstad, Sweden\",\n",
    "    \"Luleå, Sweden\",\n",
    "    \"Skövde, Sweden\",\n",
    "    \"Uddevalla, Sweden\",\n",
    "    \"Motala, Sweden\",\n",
    "    \"Majorna, Sweden\",\n",
    "    \"Partille, Sweden\",\n",
    "    \"Landskrona, Sweden\",\n",
    "    \"Örnsköldsvik, Sweden\",\n",
    "    \"Nyköping, Sweden\",\n",
    "    \"Karlskoga, Sweden\",\n",
    "    \"Åkersberga, Sweden\",\n",
    "    \"Varberg, Sweden\",\n",
    "    \"Trelleborg, Sweden\",\n",
    "    \"Kungälv, Sweden\",\n",
    "    \"Lerum, Sweden\",\n",
    "    \"Bollnäs, Sweden\",\n",
    "    \"Tumba, Sweden\",\n",
    "    \"Kristinehamn, Sweden\",\n",
    "    \"Karlshamn, Sweden\",\n",
    "    \"Vänersborg, Sweden\",\n",
    "    \"Hudiksvall, Sweden\",\n",
    "    \"Katrineholm, Sweden\",\n",
    "    \"Kil, Sweden\",\n",
    "    \"Västervik, Sweden\",\n",
    "    \"Enköping, Sweden\",\n",
    "    \"Skara, Sweden\",\n",
    "    \"Visby, Sweden\",\n",
    "    \"Härnösand, Sweden\",\n",
    "    \"Kalix, Sweden\",\n",
    "    \"Kiruna, Sweden\",\n",
    "    \"Boden, Sweden\"\n",
    "]\n",
    "\n",
    "\n",
    "len(city_list)"
   ]
  },
  {
   "attachments": {},
   "cell_type": "markdown",
   "metadata": {},
   "source": [
    "Creates 50 * 128 = 6400 additional nowildfire samples"
   ]
  },
  {
   "cell_type": "code",
   "execution_count": 18,
   "metadata": {},
   "outputs": [],
   "source": [
    "create_dataset(city_list=city_list, n=50)"
   ]
  }
 ],
 "metadata": {
  "kernelspec": {
   "display_name": "Python 3",
   "language": "python",
   "name": "python3"
  },
  "language_info": {
   "codemirror_mode": {
    "name": "ipython",
    "version": 3
   },
   "file_extension": ".py",
   "mimetype": "text/x-python",
   "name": "python",
   "nbconvert_exporter": "python",
   "pygments_lexer": "ipython3",
   "version": "3.10.9"
  },
  "orig_nbformat": 4
 },
 "nbformat": 4,
 "nbformat_minor": 2
}
