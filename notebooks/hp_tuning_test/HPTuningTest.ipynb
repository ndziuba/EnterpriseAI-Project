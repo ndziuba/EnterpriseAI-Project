{
 "cells": [
  {
   "attachments": {},
   "cell_type": "markdown",
   "metadata": {},
   "source": [
    "**Initial Model Test with pretrained Resnet models**"
   ]
  },
  {
   "attachments": {},
   "cell_type": "markdown",
   "metadata": {},
   "source": [
    "Change log level"
   ]
  },
  {
   "cell_type": "code",
   "execution_count": 1,
   "metadata": {},
   "outputs": [],
   "source": [
    "import os\n",
    "os.environ['TF_CPP_MIN_LOG_LEVEL'] = '1'"
   ]
  },
  {
   "attachments": {},
   "cell_type": "markdown",
   "metadata": {},
   "source": [
    "Imports"
   ]
  },
  {
   "cell_type": "code",
   "execution_count": 2,
   "metadata": {},
   "outputs": [],
   "source": [
    "import tensorflow as tf\n",
    "from tensorflow.keras.layers import Flatten\n",
    "from keras.layers.core import Dense\n",
    "from tensorflow.keras.models import Sequential\n",
    "from tensorflow.keras.optimizers import Adam\n",
    "from tensorflow.keras.preprocessing import image_dataset_from_directory\n",
    "import keras_tuner as kt"
   ]
  },
  {
   "attachments": {},
   "cell_type": "markdown",
   "metadata": {},
   "source": [
    "Load data"
   ]
  },
  {
   "cell_type": "code",
   "execution_count": 3,
   "metadata": {},
   "outputs": [
    {
     "name": "stdout",
     "output_type": "stream",
     "text": [
      "Found 30247 files belonging to 2 classes.\n",
      "Found 6298 files belonging to 2 classes.\n",
      "Found 6300 files belonging to 2 classes.\n"
     ]
    }
   ],
   "source": [
    "test_data_directory = 'data/test'\n",
    "train_data_directory = 'data/train'\n",
    "valid_data_directory = 'data/valid'\n",
    "batch_size = 32\n",
    "\n",
    "def data_loader(directory, batch_size):\n",
    "    ds = image_dataset_from_directory(\n",
    "        directory = directory,\n",
    "        seed = 1324,\n",
    "        label_mode = 'categorical',\n",
    "        image_size = (350, 350),\n",
    "        batch_size = batch_size\n",
    "    )  \n",
    "    return ds\n",
    "\n",
    "train_ds = data_loader(train_data_directory, batch_size)\n",
    "\n",
    "test_ds = data_loader(test_data_directory, batch_size)\n",
    "\n",
    "valid_ds = data_loader(valid_data_directory, batch_size)"
   ]
  },
  {
   "attachments": {},
   "cell_type": "markdown",
   "metadata": {},
   "source": [
    "Build model funtion for keras_tuner"
   ]
  },
  {
   "cell_type": "code",
   "execution_count": 4,
   "metadata": {},
   "outputs": [],
   "source": [
    "def build_model(hp):\n",
    "    # initialize model\n",
    "    model = Sequential()\n",
    "\n",
    "    # import pretrained model\n",
    "    resnet_model = tf.keras.applications.ResNet50(\n",
    "        include_top=False,\n",
    "        input_shape=(350,350,3),\n",
    "        pooling='avg',\n",
    "        weights='imagenet'\n",
    "    )\n",
    "\n",
    "    # exclude pretrained model weights from being recalculated\n",
    "    for layer in resnet_model.layers:\n",
    "        layer.trainable = False\n",
    "\n",
    "    # add pretrained ResNet50 model to sequential model\n",
    "    model.add(resnet_model)\n",
    "\n",
    "    # add additional layers to model\n",
    "    model.add(Flatten())\n",
    "\n",
    "    model.add(Dense(\n",
    "       # Tune number of units.\n",
    "        units=hp.Choice(\"units\", values=[64,128,265,512]),\n",
    "        # Tune the activation function to use.\n",
    "        activation=hp.Choice(\"activation\", [\"relu\", \"tanh\"]),\n",
    "        )\n",
    "    )\n",
    "\n",
    "\n",
    "    model.add(Dense(2, tf.nn.softmax))\n",
    "    model.compile(optimizer=Adam(), loss='binary_crossentropy', metrics=['accuracy'])\n",
    "    \n",
    "    return model"
   ]
  },
  {
   "cell_type": "markdown",
   "metadata": {},
   "source": [
    "Define Tuner"
   ]
  },
  {
   "cell_type": "code",
   "execution_count": 5,
   "metadata": {},
   "outputs": [],
   "source": [
    "tuner = kt.RandomSearch(\n",
    "    build_model,\n",
    "    objective='val_accuracy',\n",
    "    seed=1234,\n",
    "    overwrite=True,\n",
    "    max_trials=20,\n",
    "    directory='models/hp_tuning')"
   ]
  },
  {
   "cell_type": "markdown",
   "metadata": {},
   "source": [
    "Run tuner HP search"
   ]
  },
  {
   "cell_type": "code",
   "execution_count": 8,
   "metadata": {},
   "outputs": [
    {
     "name": "stdout",
     "output_type": "stream",
     "text": [
      "Trial 8 Complete [00h 04m 25s]\n",
      "val_accuracy: 0.9868254065513611\n",
      "\n",
      "Best val_accuracy So Far: 0.986984133720398\n",
      "Total elapsed time: 00h 47m 32s\n",
      "INFO:tensorflow:Oracle triggered exit\n"
     ]
    }
   ],
   "source": [
    "tuner.search(train_ds, epochs=5, validation_data=(valid_ds))"
   ]
  },
  {
   "cell_type": "code",
   "execution_count": 9,
   "metadata": {},
   "outputs": [],
   "source": [
    "best_model = tuner.get_best_models()[0]\n",
    "best_hps = tuner.get_best_hyperparameters(num_trials=1)[0]\n"
   ]
  },
  {
   "cell_type": "code",
   "execution_count": 10,
   "metadata": {},
   "outputs": [
    {
     "data": {
      "text/plain": [
       "'relu'"
      ]
     },
     "execution_count": 10,
     "metadata": {},
     "output_type": "execute_result"
    }
   ],
   "source": [
    "best_hps.get('activation')"
   ]
  },
  {
   "cell_type": "code",
   "execution_count": 11,
   "metadata": {},
   "outputs": [
    {
     "data": {
      "text/plain": [
       "265"
      ]
     },
     "execution_count": 11,
     "metadata": {},
     "output_type": "execute_result"
    }
   ],
   "source": [
    "best_hps.get('units')"
   ]
  },
  {
   "cell_type": "code",
   "execution_count": 12,
   "metadata": {},
   "outputs": [
    {
     "name": "stdout",
     "output_type": "stream",
     "text": [
      "Model: \"sequential\"\n",
      "_________________________________________________________________\n",
      " Layer (type)                Output Shape              Param #   \n",
      "=================================================================\n",
      " resnet50 (Functional)       (None, 2048)              23587712  \n",
      "                                                                 \n",
      " flatten (Flatten)           (None, 2048)              0         \n",
      "                                                                 \n",
      " dense (Dense)               (None, 265)               542985    \n",
      "                                                                 \n",
      " dense_1 (Dense)             (None, 2)                 532       \n",
      "                                                                 \n",
      "=================================================================\n",
      "Total params: 24,131,229\n",
      "Trainable params: 543,517\n",
      "Non-trainable params: 23,587,712\n",
      "_________________________________________________________________\n"
     ]
    }
   ],
   "source": [
    "best_model.summary()\n"
   ]
  },
  {
   "cell_type": "code",
   "execution_count": 13,
   "metadata": {},
   "outputs": [
    {
     "name": "stdout",
     "output_type": "stream",
     "text": [
      "197/197 [==============================] - 10s 48ms/step - loss: 0.0321 - accuracy: 0.9879\n"
     ]
    }
   ],
   "source": [
    "score = best_model.evaluate(test_ds)"
   ]
  }
 ],
 "metadata": {
  "kernelspec": {
   "display_name": "Python 3",
   "language": "python",
   "name": "python3"
  },
  "language_info": {
   "codemirror_mode": {
    "name": "ipython",
    "version": 3
   },
   "file_extension": ".py",
   "mimetype": "text/x-python",
   "name": "python",
   "nbconvert_exporter": "python",
   "pygments_lexer": "ipython3",
   "version": "3.9.16"
  },
  "orig_nbformat": 4
 },
 "nbformat": 4,
 "nbformat_minor": 2
}
